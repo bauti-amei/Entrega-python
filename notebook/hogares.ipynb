{
 "cells": [
  {
   "cell_type": "markdown",
   "id": "d4e546ee",
   "metadata": {},
   "source": [
    "# Setup del entorno"
   ]
  },
  {
   "cell_type": "code",
   "execution_count": null,
   "id": "9d36ac75",
   "metadata": {},
   "outputs": [],
   "source": [
    "import os\n",
    "import sys\n",
    "\n",
    "sys.path.append(os.path.abspath(\"../src\"))"
   ]
  },
  {
   "cell_type": "markdown",
   "id": "6c42d93e",
   "metadata": {},
   "source": [
    "# Ejercicio 7 parte A\n",
    "Se debe generar una nueva columna llamada TIPO_HOGAR que indica el tipo de\n",
    "hogar:\n",
    "    \"Unipersonal\" (una persona).\n",
    "    \"Nuclear\" (2 a 4 personas).\n",
    "    \"Extendido\" (5 o más personas)."
   ]
  },
  {
   "cell_type": "code",
   "execution_count": null,
   "id": "48dcdd1a",
   "metadata": {},
   "outputs": [],
   "source": [
    "import os\n",
    "import sys\n",
    "import csv\n",
    "\n",
    "sys.path.append(os.path.abspath('../files'))\n",
    "\n",
    "path_hogar = '../files/usu_hogar_T324.txt'\n",
    "\n",
    "# Abro el archivo de hogar en modo lectura\n",
    "with open (path_hogar, encoding = 'utf-8') as archivo_hogar:\n",
    "    lector = csv.DictReader(archivo_hogar, delimiter=';')\n",
    "    lista = list(lector)\n",
    "    for elem in lista:\n",
    "        if elem['IX_TOT'] == 1 :\n",
    "            elem['TIPO_HOGAR'] = 'Unipersonal'\n",
    "        else:\n",
    "            if (int(elem['IX_TOT']) >= 2) and (int (elem['IX_TOT']) <=4):\n",
    "                elem['TIPO_HOGAR'] = 'Nuclear'\n",
    "            else:\n",
    "                elem['TIPO_HOGAR'] = 'Extendido'\n",
    "\n",
    "# Reabro el archivo en modo escritura\n",
    "with open (path_hogar, mode='w', newline='', encoding='utf-8') as archivo_hogar:\n",
    "    # Tomo las claves del diccionario que sera en el cabezado del archivo\n",
    "    encabezado = list(lista[0].keys())\n",
    "    escritor = csv.DictWriter(archivo_hogar, fieldnames=encabezado, delimiter=';')\n",
    "    # Escribo el encabezado y las demas lineas\n",
    "    escritor.writeheader()\n",
    "    escritor.writerows(lista)"
   ]
  },
  {
   "cell_type": "markdown",
   "id": "018b14c2",
   "metadata": {},
   "source": [
    "# Ejercicio 8 parte A\n",
    "Se debe generar una nueva columna llamada \n",
    "MATERIAL_TECHUMBRE que indica el tipo de hogar basado en el campo v4:\n",
    "\t-5 a 7 'Material precario'\n",
    "\t-1 a 4 'Material durable'\n",
    "\t-9 'No aplica'"
   ]
  },
  {
   "cell_type": "code",
   "execution_count": null,
   "id": "902bc558",
   "metadata": {},
   "outputs": [],
   "source": [
    "import os\n",
    "import sys\n",
    "import csv\n",
    "\n",
    "sys.path.append(os.path.abspath('../files'))\n",
    "path_file = '../files/usu_hogar_T324.txt'\n",
    "\n",
    "with open(path_file,encoding='utf-8') as archivo_csv:\n",
    "    reader = csv.DictReader(archivo_csv, delimiter=';')\n",
    "    lista = list(reader)\n",
    "\n",
    "    for linea in lista:\n",
    "        valor = int(linea['V4'])\n",
    "        if valor >= 1 and valor <= 4:\n",
    "            linea['MATERIAL_TECHUMBRE'] = 'Material durable'\n",
    "        elif valor >= 5 and valor <= 7:\n",
    "            linea['MATERIAL_TECHUMBRE'] = 'Material precario'\n",
    "        elif valor == 9:\n",
    "            linea['MATERIAL_TECHUMBRE'] = 'No aplica'\n",
    "\n",
    "fieldnames = lista[0].keys()\n",
    "with open(path_file, mode='w', encoding='utf-8') as archivo_salida:\n",
    "    writer = csv.DictWriter(archivo_salida, fieldnames=fieldnames, delimiter=';')\n",
    "    writer.writeheader()\n",
    "    writer.writerows(lista)"
   ]
  },
  {
   "cell_type": "markdown",
   "id": "137bad8b",
   "metadata": {},
   "source": [
    "# Ejercicio 10 parte A\n",
    "\n",
    "Se debe generar una nueva columna llamada CONDICION_DE_HABITABILIDAD, la\n",
    "misma califica a las viviendas y puede tener el valor de: insuficiente, regular,\n",
    "saludables y buena.\n",
    "\n",
    "Las reglas que definen la clasificación de las viviendas son las siguientes:\n",
    "\n",
    "### Insuficiente\n",
    "* Agua fuera del terreno\n",
    "* Agua con bomba manual u otra fuente desconocida\n",
    "* Baño fuera del terreno\n",
    "* Baño inexistente\n",
    "### Regular\n",
    "* Agua fuera de la vivienda pero dentro del terreno\n",
    "* Baño fuera de la vivienda pero dentro del terreno\n",
    "* Baño de tipo letrina\n",
    "### Saludables\n",
    "* Agua por cañería dentro de la vivienda con bomba a motor\n",
    "* Baño dentro de la vivienda con inodoro sin botón / cadena y con arrastre de agua (a balde)\n",
    "### Buena\n",
    "* Agua por cañería dentro de la vivienda y de red pública(agua corriente)\n",
    "* Baño dentro de la vivienda con inodoro con botón / mochila / cadena y arrastre de agua\n",
    "\n",
    "## Solucion\n",
    "\n",
    "Se importa la funcion calificar_condicion que evalua una vivienda y retorna su condicion de habitabilidad."
   ]
  },
  {
   "cell_type": "code",
   "execution_count": null,
   "id": "34f0b7ce",
   "metadata": {},
   "outputs": [],
   "source": [
    "from pathlib import Path\n",
    "from constants import FILES_DIRECTORY # type: ignore\n",
    "import csv\n",
    "from agregar_condicion_habitabilidad import calificar_condicion # type: ignore\n",
    "\n",
    "\n",
    "path_file = Path(FILES_DIRECTORY/'usu_hogar_T324.txt')\n",
    "\n",
    "# Leer el archivo\n",
    "with open(path_file,encoding='utf-8') as csv_file:\n",
    "    csv_dict = list(csv.DictReader(csv_file,delimiter=';'))\n",
    "\n",
    "# Evaluar la condición de habitabilidad\n",
    "for line in csv_dict:\n",
    "    line['CONDICION_DE_HABITABILIDAD'] = calificar_condicion(line)\n",
    "\n",
    "# Escribir el archivo actualizado   \n",
    "with open(path_file, mode='w', newline='', encoding='utf-8') as csv_file:\n",
    "    csv_writer = csv.DictWriter(csv_file, fieldnames=csv_dict[0].keys(), delimiter=';')\n",
    "    csv_writer.writeheader()\n",
    "    csv_writer.writerows(csv_dict)"
   ]
  }
 ],
 "metadata": {
  "kernelspec": {
   "display_name": "Python 3",
   "language": "python",
   "name": "python3"
  },
  "language_info": {
   "codemirror_mode": {
    "name": "ipython",
    "version": 3
   },
   "file_extension": ".py",
   "mimetype": "text/x-python",
   "name": "python",
   "nbconvert_exporter": "python",
   "pygments_lexer": "ipython3",
   "version": "3.12.9"
  }
 },
 "nbformat": 4,
 "nbformat_minor": 5
}
