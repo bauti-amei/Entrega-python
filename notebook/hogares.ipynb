{
 "cells": [
  {
   "cell_type": "markdown",
   "id": "6c42d93e",
   "metadata": {},
   "source": [
    "Se debe generar una nueva columna llamada TIPO_HOGAR que indica el tipo de\n",
    "hogar:\n",
    "    \"Unipersonal\" (una persona).\n",
    "    \"Nuclear\" (2 a 4 personas).\n",
    "    \"Extendido\" (5 o más personas)."
   ]
  },
  {
   "cell_type": "code",
   "execution_count": 8,
   "id": "48dcdd1a",
   "metadata": {},
   "outputs": [],
   "source": [
    "import os\n",
    "import sys\n",
    "import csv\n",
    "\n",
    "sys.path.append(os.path.abspath('../files'))\n",
    "\n",
    "path_hogar = '../files/usu_hogar_T324.txt'\n",
    "\n",
    "# Abro el archivo de hogar en modo lectura\n",
    "with open (path_hogar, encoding = 'utf-8') as archivo_hogar:\n",
    "    lector = csv.DictReader(archivo_hogar, delimiter=';')\n",
    "    lista = list(lector)\n",
    "    for elem in lista:\n",
    "        if elem['IX_TOT'] == 1 :\n",
    "            elem['TIPO_HOGAR'] = 'Unipersonal'\n",
    "        else:\n",
    "            if (int(elem['IX_TOT']) >= 2) and (int (elem['IX_TOT']) <=4):\n",
    "                elem['TIPO_HOGAR'] = 'Nuclear'\n",
    "            else:\n",
    "                elem['TIPO_HOGAR'] = 'Extendido'\n",
    "\n",
    "# Reabro el archivo en modo escritura\n",
    "with open (path_hogar, mode='w', newline='', encoding='utf-8') as archivo_hogar:\n",
    "    # Tomo las claves del diccionario que sera en el cabezado del archivo\n",
    "    encabezado = list(lista[0].keys())\n",
    "    escritor = csv.DictWriter(archivo_hogar, fieldnames=encabezado, delimiter=';')\n",
    "    # Escribo el encabezado y las demas lineas\n",
    "    escritor.writeheader()\n",
    "    escritor.writerows(lista)"
   ]
  }
 ],
 "metadata": {
  "kernelspec": {
   "display_name": "Python 3",
   "language": "python",
   "name": "python3"
  },
  "language_info": {
   "codemirror_mode": {
    "name": "ipython",
    "version": 3
   },
   "file_extension": ".py",
   "mimetype": "text/x-python",
   "name": "python",
   "nbconvert_exporter": "python",
   "pygments_lexer": "ipython3",
   "version": "3.12.9"
  }
 },
 "nbformat": 4,
 "nbformat_minor": 5
}
