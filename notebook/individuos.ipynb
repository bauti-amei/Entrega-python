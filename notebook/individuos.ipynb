{
 "cells": [
  {
   "cell_type": "markdown",
   "id": "316cf8e6",
   "metadata": {},
   "source": [
    "Ejercicio 4 : Se debe traducir los valores NIVEL_ED numéricos a descripciones en formato texto.\n",
    "El resultado se debe almacenar en una nueva columna llamada NIVEL_ED_str. La\n",
    "transformación debe seguir las siguientes reglas:\n",
    "\n",
    "    1: \"Primario incompleto\"\n",
    "    2: \"Primario completo\"\n",
    "    3 \"Secundario incompleto\"\n",
    "    4: \"Secundario completo\"\n",
    "    5 a 6: \"Superior o universitario\"\n",
    "    7 o 9: “Sin informacion”"
   ]
  },
  {
   "cell_type": "code",
   "execution_count": null,
   "id": "72211c01",
   "metadata": {},
   "outputs": [],
   "source": [
    "import os\n",
    "import sys\n",
    "import csv\n",
    "\n",
    "sys.path.append(os.path.abspath('../files'))\n",
    "\n",
    "path_individuo = '../files/usu_individual_T324.txt'\n",
    "\n",
    "descripciones_nivel_ED = {\n",
    "    '1': 'Primario incompleto',\n",
    "    '2': 'Primario completo',\n",
    "    '3': 'Secundario incompleto',\n",
    "    '4': 'Secundario completo',\n",
    "    '5': 'Superior o universitario',\n",
    "    '6': 'Superior o universitario',\n",
    "    '7': 'Sin informacion',\n",
    "    '8': 'Sin informacion',\n",
    "    '9': 'Sin informacion'\n",
    "}\n",
    "\n",
    "# Abro el archivo de individuos en modo lectura\n",
    "with open(path_individuo, encoding='utf-8') as archivo_individuo:\n",
    "    lector = csv.DictReader(archivo_individuo, delimiter=';')\n",
    "    lista = list(lector)\n",
    "\n",
    "    # Obtengo los encabezados originales y agrego la nueva columna\n",
    "    encabezado = list(lista[0].keys())\n",
    "    encabezado.append('NIVEL_ED_str')\n",
    "\n",
    "    # Reabro el archivo en modo escritura\n",
    "    with open(path_individuo, mode='w', newline='', encoding='utf-8') as archivo_individuo:\n",
    "        escritor = csv.DictWriter(archivo_individuo, fieldnames=encabezado, delimiter=';')\n",
    "        escritor.writeheader()\n",
    "        for elem in lista:\n",
    "            elem['NIVEL_ED_str'] = descripciones_nivel_ED[elem['NIVEL_ED']]\n",
    "            escritor.writerow(elem)\n"
   ]
  }
 ],
 "metadata": {
  "kernelspec": {
   "display_name": "Python 3",
   "language": "python",
   "name": "python3"
  },
  "language_info": {
   "codemirror_mode": {
    "name": "ipython",
    "version": 3
   },
   "file_extension": ".py",
   "mimetype": "text/x-python",
   "name": "python",
   "nbconvert_exporter": "python",
   "pygments_lexer": "ipython3",
   "version": "3.12.9"
  }
 },
 "nbformat": 4,
 "nbformat_minor": 5
}
