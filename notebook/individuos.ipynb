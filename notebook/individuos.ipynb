{
 "cells": [
  {
   "cell_type": "markdown",
   "id": "0dfeb25f",
   "metadata": {},
   "source": [
    "# Ejercicio 3 Parte A\n",
    "en archivo individuos se debe traducir los valores CH04 numericos a  \n",
    "masculino y femenino segun corresponda. El resultado se debe almacenar \n",
    "en una nueva columna Llamada CH04_STR."
   ]
  },
  {
   "cell_type": "code",
   "execution_count": 1,
   "id": "308fee4b",
   "metadata": {},
   "outputs": [
    {
     "name": "stdout",
     "output_type": "stream",
     "text": [
      "El archivo original ha sido modificado con la nueva columna CH04_STR.\n"
     ]
    }
   ],
   "source": [
    "import os\n",
    "import sys\n",
    "import csv\n",
    "\n",
    "path_file = '../files/usu_individual_T324.txt'\n",
    "\n",
    "with open(path_file, encoding='utf-8') as archivo_csv:\n",
    "    reader = csv.DictReader(archivo_csv, delimiter=';')\n",
    "    lista = list(reader)\n",
    "\n",
    "    # Añadir la nueva columna CH04_STR\n",
    "    for row in lista:\n",
    "        if row['CH04'] == '1':\n",
    "            row['CH04_STR'] = 'Masculino'\n",
    "        elif row['CH04'] == '2':\n",
    "            row['CH04_STR'] = 'Femenino'\n",
    "\n",
    "# Sobrescribir el archivo original con la nueva columna\n",
    "\n",
    "# Obtener los nombres de las columnas, incluyendo la nueva\n",
    "\n",
    "fieldnames = lista[0].keys()  \n",
    "\n",
    "with open(path_file, mode='w', encoding='utf-8') as archivo_salida:\n",
    "    writer = csv.DictWriter(archivo_salida, fieldnames=fieldnames, delimiter=';')\n",
    "    writer.writeheader()\n",
    "    writer.writerows(lista)\n",
    "\n",
    "print(f\"El archivo original ha sido modificado con la nueva columna CH04_STR.\")"
   ]
  },
  {
   "cell_type": "markdown",
   "id": "316cf8e6",
   "metadata": {},
   "source": [
    "# Ejercicio 4 parte A\n",
    "Se debe traducir los valores NIVEL_ED numéricos a descripciones en formato texto.\n",
    "El resultado se debe almacenar en una nueva columna llamada NIVEL_ED_str. La\n",
    "transformación debe seguir las siguientes reglas:\n",
    "\n",
    "    1: \"Primario incompleto\"\n",
    "    2: \"Primario completo\"\n",
    "    3 \"Secundario incompleto\"\n",
    "    4: \"Secundario completo\"\n",
    "    5 a 6: \"Superior o universitario\"\n",
    "    7 o 9: “Sin informacion”"
   ]
  },
  {
   "cell_type": "code",
   "execution_count": 2,
   "id": "72211c01",
   "metadata": {},
   "outputs": [],
   "source": [
    "import os\n",
    "import sys\n",
    "import csv\n",
    "\n",
    "sys.path.append(os.path.abspath('../files'))\n",
    "\n",
    "path_individuo = '../files/usu_individual_T324.txt'\n",
    "\n",
    "descripciones_nivel_ED = {\n",
    "    '1': 'Primario incompleto',\n",
    "    '2': 'Primario completo',\n",
    "    '3': 'Secundario incompleto',\n",
    "    '4': 'Secundario completo',\n",
    "    '5': 'Superior o universitario',\n",
    "    '6': 'Superior o universitario',\n",
    "    '7': 'Sin informacion',\n",
    "    '8': 'Sin informacion',\n",
    "    '9': 'Sin informacion'\n",
    "}\n",
    "\n",
    "# Abro el archivo de individuos en modo lectura\n",
    "with open(path_individuo, encoding='utf-8') as archivo_individuo:\n",
    "    lector = csv.DictReader(archivo_individuo, delimiter=';')\n",
    "    lista = list(lector)\n",
    "    for elem in lista:\n",
    "        elem['NIVEL_ED_str'] = descripciones_nivel_ED[elem['NIVEL_ED']]\n",
    "\n",
    "# Reabro el archivo en modo escritura\n",
    "with open(path_individuo, mode='w', newline='', encoding='utf-8') as archivo_individuo:\n",
    "    # Tomo las claves del diccionario que sera en el cabezado del archivo\n",
    "    encabezado = list(lista[0].keys())\n",
    "    escritor = csv.DictWriter(archivo_individuo, fieldnames=encabezado, delimiter=';')\n",
    "    escritor.writeheader()\n",
    "    escritor.writerows(lista)\n"
   ]
  }
 ],
 "metadata": {
  "kernelspec": {
   "display_name": "Python 3",
   "language": "python",
   "name": "python3"
  },
  "language_info": {
   "codemirror_mode": {
    "name": "ipython",
    "version": 3
   },
   "file_extension": ".py",
   "mimetype": "text/x-python",
   "name": "python",
   "nbconvert_exporter": "python",
   "pygments_lexer": "ipython3",
   "version": "3.12.9"
  }
 },
 "nbformat": 4,
 "nbformat_minor": 5
}
