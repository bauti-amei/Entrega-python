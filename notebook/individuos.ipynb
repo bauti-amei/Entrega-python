{
 "cells": [
  {
   "cell_type": "markdown",
   "id": "0dfeb25f",
   "metadata": {},
   "source": [
    "# Ejercicio 3 Parte A\n",
    "en archivo individuos se debe traducir los valores CH04 numericos a  \n",
    "masculino y femenino segun corresponda. El resultado se debe almacenar \n",
    "en una nueva columna Llamada CH04_STR."
   ]
  },
  {
   "cell_type": "code",
   "execution_count": 1,
   "id": "308fee4b",
   "metadata": {},
   "outputs": [
    {
     "name": "stdout",
     "output_type": "stream",
     "text": [
      "El archivo original ha sido modificado con la nueva columna CH04_STR.\n"
     ]
    }
   ],
   "source": [
    "import os\n",
    "import sys\n",
    "import csv\n",
    "\n",
    "path_file = '../files/usu_individual_T324.txt'\n",
    "\n",
    "with open(path_file, encoding='utf-8') as archivo_csv:\n",
    "    reader = csv.DictReader(archivo_csv, delimiter=';')\n",
    "    lista = list(reader)\n",
    "\n",
    "    # Añadir la nueva columna CH04_STR\n",
    "    for row in lista:\n",
    "        if row['CH04'] == '1':\n",
    "            row['CH04_STR'] = 'Masculino'\n",
    "        elif row['CH04'] == '2':\n",
    "            row['CH04_STR'] = 'Femenino'\n",
    "\n",
    "# Sobrescribir el archivo original con la nueva columna\n",
    "\n",
    "# Obtener los nombres de las columnas, incluyendo la nueva\n",
    "\n",
    "fieldnames = lista[0].keys()  \n",
    "\n",
    "with open(path_file, mode='w', encoding='utf-8') as archivo_salida:\n",
    "    writer = csv.DictWriter(archivo_salida, fieldnames=fieldnames, delimiter=';')\n",
    "    writer.writeheader()\n",
    "    writer.writerows(lista)\n",
    "\n",
    "print(f\"El archivo original ha sido modificado con la nueva columna CH04_STR.\")"
   ]
  },
  {
   "cell_type": "markdown",
   "id": "316cf8e6",
   "metadata": {},
   "source": [
    "# Ejercicio 4 parte A\n",
    "Se debe traducir los valores NIVEL_ED numéricos a descripciones en formato texto.\n",
    "El resultado se debe almacenar en una nueva columna llamada NIVEL_ED_str. La\n",
    "transformación debe seguir las siguientes reglas:\n",
    "\n",
    "    1: \"Primario incompleto\"\n",
    "    2: \"Primario completo\"\n",
    "    3 \"Secundario incompleto\"\n",
    "    4: \"Secundario completo\"\n",
    "    5 a 6: \"Superior o universitario\"\n",
    "    7 o 9: “Sin informacion”"
   ]
  },
  {
   "cell_type": "code",
   "execution_count": 2,
   "id": "72211c01",
   "metadata": {},
   "outputs": [],
   "source": [
    "import os\n",
    "import sys\n",
    "import csv\n",
    "\n",
    "sys.path.append(os.path.abspath('../files'))\n",
    "\n",
    "path_individuo = '../files/usu_individual_T324.txt'\n",
    "\n",
    "descripciones_nivel_ED = {\n",
    "    '1': 'Primario incompleto',\n",
    "    '2': 'Primario completo',\n",
    "    '3': 'Secundario incompleto',\n",
    "    '4': 'Secundario completo',\n",
    "    '5': 'Superior o universitario',\n",
    "    '6': 'Superior o universitario',\n",
    "    '7': 'Sin informacion',\n",
    "    '8': 'Sin informacion',\n",
    "    '9': 'Sin informacion'\n",
    "}\n",
    "\n",
    "# Abro el archivo de individuos en modo lectura\n",
    "with open(path_individuo, encoding='utf-8') as archivo_individuo:\n",
    "    lector = csv.DictReader(archivo_individuo, delimiter=';')\n",
    "    lista = list(lector)\n",
    "    for elem in lista:\n",
    "        elem['NIVEL_ED_str'] = descripciones_nivel_ED[elem['NIVEL_ED']]\n",
    "\n",
    "# Reabro el archivo en modo escritura\n",
    "with open(path_individuo, mode='w', newline='', encoding='utf-8') as archivo_individuo:\n",
    "    # Tomo las claves del diccionario que sera en el cabezado del archivo\n",
    "    encabezado = list(lista[0].keys())\n",
    "    escritor = csv.DictWriter(archivo_individuo, fieldnames=encabezado, delimiter=';')\n",
    "    escritor.writeheader()\n",
    "    escritor.writerows(lista)\n"
   ]
  },
  {
   "cell_type": "markdown",
   "id": "0b899007",
   "metadata": {},
   "source": [
    "# Ejercicio 5 parte A\n",
    "Se debe crear una nueva columna denominada CONDICION_LABORAL de formato \n",
    "texto. La transformación debe seguir las siguientes reglas: \n",
    "- Ocupado autónomo: si ESTADO es igual a 1 y CAT_OCUP es 1 o 2. \n",
    "- Ocupado dependiente: si ESTADO es igual a 1 y CAT_OCUP es 3 o 4 o 9. \n",
    "- Desocupado: si ESTADO es igual a 2. \n",
    "- Inactivo: si ESTADO es igual a 3. \n",
    "- Fuera de categoría/sin información: si ESTADO es igual a 4."
   ]
  },
  {
   "cell_type": "code",
   "execution_count": null,
   "id": "4fc66ba7",
   "metadata": {},
   "outputs": [],
   "source": [
    "from pathlib import Path\n",
    "from constants import FILES_DIRECTORY # type: ignore\n",
    "import csv\n",
    "\n",
    "# funcion para ver que condicion laboral tiene\n",
    "def calificar_CONDICION_LABORAL(estado, cat):\n",
    "    if estado == '1':\n",
    "            if cat in ['1', '2']:\n",
    "                # retorno segun la categoria\n",
    "                return 'Ocupado autónomo'\n",
    "            elif cat in ['3','4', '9']:\n",
    "                return 'Ocupado dependiente'\n",
    "    elif estado == '2':\n",
    "        return 'Desocupado'\n",
    "    elif estado == '3':\n",
    "        return 'Inactivo'\n",
    "    else:\n",
    "        return 'Fuera de categoría/sin información'\n",
    "\n",
    "path = Path(FILES_DIRECTORY / 'usu_individual_T324.txt')\n",
    "\n",
    "with open(path, encoding='utf-8') as archivo:\n",
    "    reader = csv.DictReader(archivo, delimiter=';')\n",
    "    lista = list(reader)\n",
    "    # recorro preguntando por ESTADO y CAT_OCUP \n",
    "    for e in lista:\n",
    "        e['CONDICION_LABORAL'] = calificar_CONDICION_LABORAL(e['ESTADO'], e['CAT_OCUP'])\n",
    "\n",
    "columnas = list(lista[0].keys())\n",
    "\n",
    "# Escribir archivo actualizado\n",
    "with open(path, mode='w', encoding='utf-8') as archivo:\n",
    "    writerCsv = csv.DictWriter(archivo, fieldnames=columnas, delimiter=';')\n",
    "    writerCsv.writeheader()\n",
    "    writerCsv.writerows(lista)\n",
    "\n",
    "print(\"Archivo actualizado con la columna CONDICION_LABORAL.\")"
   ]
  }
 ],
 "metadata": {
  "kernelspec": {
   "display_name": "Python 3",
   "language": "python",
   "name": "python3"
  },
  "language_info": {
   "codemirror_mode": {
    "name": "ipython",
    "version": 3
   },
   "file_extension": ".py",
   "mimetype": "text/x-python",
   "name": "python",
   "nbconvert_exporter": "python",
   "pygments_lexer": "ipython3",
   "version": "3.12.9"
  }
 },
 "nbformat": 4,
 "nbformat_minor": 5
}
