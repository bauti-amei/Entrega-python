{
 "cells": [
  {
   "cell_type": "code",
   "execution_count": 1,
   "id": "f9a91890",
   "metadata": {},
   "outputs": [],
   "source": [
    "import os\n",
    "import sys\n",
    "\n",
    "# Agrega la carpeta src al path\n",
    "sys.path.append(os.path.abspath(\"../src\"))\n"
   ]
  },
  {
   "cell_type": "markdown",
   "id": "3b583b95",
   "metadata": {},
   "source": [
    "# Ejercicio 2 - Sección A\n",
    "\n",
    "\n",
    "Se debe generar una sección de código dentro del notebook que busque en la\n",
    "mencionada carpeta cada uno de los archivos “individuos” y “hogares” y los una."
   ]
  },
  {
   "cell_type": "markdown",
   "id": "ec94a284",
   "metadata": {},
   "source": [
    "Aclaracion: Genero 2 datasets, 1 por hogares y 1 por individuales, ya que al no haber compatibilidad de columnas, es decir que, en los archivos las columnas varian, es probable\n",
    "que al unificar datos, se superpongan o repitan datos. También,\n",
    "se tomó la decision de no versionar los archivos csv generados para evitar conflictos, mantener el repositorio mas liviano y limpio, y principalmente porque pueden ser generados nuevamente al ejecutar el notebook: generar_dataset.ipynb"
   ]
  },
  {
   "cell_type": "code",
   "execution_count": 4,
   "id": "f0f73d62",
   "metadata": {},
   "outputs": [
    {
     "name": "stdout",
     "output_type": "stream",
     "text": [
      "archivo hogar transcripto\n",
      "archivo hogar transcripto\n",
      "archivo indiv transcripto\n",
      "archivo indiv transcripto\n"
     ]
    }
   ],
   "source": [
    "#Importo función a utilizar\n",
    "from recorrer_y_unir_files import unir_files\n",
    "\n",
    "#Utilizo la función de procesamiento y creación de archivos\n",
    "unir_files()\n"
   ]
  }
 ],
 "metadata": {
  "kernelspec": {
   "display_name": "Python 3",
   "language": "python",
   "name": "python3"
  },
  "language_info": {
   "codemirror_mode": {
    "name": "ipython",
    "version": 3
   },
   "file_extension": ".py",
   "mimetype": "text/x-python",
   "name": "python",
   "nbconvert_exporter": "python",
   "pygments_lexer": "ipython3",
   "version": "3.12.9"
  }
 },
 "nbformat": 4,
 "nbformat_minor": 5
}
